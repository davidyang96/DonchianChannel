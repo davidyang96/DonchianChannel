{
 "cells": [
  {
   "cell_type": "code",
   "execution_count": null,
   "metadata": {},
   "outputs": [],
   "source": [
    "import pandas as pd\n",
    "import matplotlib.pyplot as plt\n",
    "from datetime import datetime\n",
    "import numpy as np\n",
    "import time\n",
    "import random\n",
    "import calendar"
   ]
  },
  {
   "cell_type": "code",
   "execution_count": null,
   "metadata": {},
   "outputs": [],
   "source": [
    "def DD(array):\n",
    "    n = len(array)\n",
    "    DD = np.zeros(n)\n",
    "    prevmax = 0\n",
    "    for i in range(n):\n",
    "        if array[i] > prevmax:\n",
    "            prevmax = array[i]\n",
    "        DD[i] = max(0,prevmax - array[i])\n",
    "    return DD"
   ]
  },
  {
   "cell_type": "code",
   "execution_count": null,
   "metadata": {},
   "outputs": [],
   "source": [
    "HO = pd.read_csv('HO-5min.asc',index_col = 0).iloc[:,:5]\n",
    "HO.index = pd.to_datetime(HO.index)\n",
    "HO.iloc[:,1:] = HO.iloc[:,1:].multiply(100)\n",
    "\n",
    "XB = pd.read_csv('XB-5min.asc',index_col = 0).iloc[:,:5]\n",
    "XB.index = pd.to_datetime(XB.index)\n",
    "XB.iloc[:,1:] = XB.iloc[:,1:].multiply(100)"
   ]
  },
  {
   "cell_type": "code",
   "execution_count": null,
   "metadata": {},
   "outputs": [],
   "source": [
    "data = XB[(XB.index > datetime(2012,1,1)) & (XB.index < datetime(2020,1,1))]"
   ]
  },
  {
   "cell_type": "code",
   "execution_count": null,
   "metadata": {},
   "outputs": [],
   "source": [
    "df = pd.read_csv('XB_8yrs_TradeTables_4Ytrain_4Qtest_EnhanceRS.csv',index_col = 0)\n",
    "df_EC = pd.read_csv('XB_8yrs_EC_4Ytrain_4Qtest_EnhanceRS.csv',index_col = 0)"
   ]
  },
  {
   "cell_type": "code",
   "execution_count": null,
   "metadata": {},
   "outputs": [],
   "source": [
    "Drawdown = DD(np.array(df_EC.Equity))"
   ]
  },
  {
   "cell_type": "code",
   "execution_count": null,
   "metadata": {},
   "outputs": [],
   "source": [
    "Net_Equity = df.Profit.sum() + 100000\n",
    "Net_Profit = df.Profit.sum()\n",
    "Worst_Drawdown = max(Drawdown)\n",
    "Net_Profit_To_Worst_Drawdown = Net_Profit/Worst_Drawdown*100\n",
    "Avg_Drawdown = np.mean(Drawdown)\n",
    "Gross_Gain = df.Profit[df.Profit >= 0].sum()\n",
    "Gross_Loss = -df.Profit[df.Profit < 0].sum()\n",
    "Profit_Factor = Gross_Gain/Gross_Loss\n",
    "Trade_Count = len(df)\n",
    "Long_Trade_Count = sum(df.StartPos == 'long')\n",
    "Short_Trade_Count = sum(df.StartPos == 'short')\n",
    "Percent_Winners = sum(df.Profit >= 0)/Trade_Count*100\n",
    "Percent_Losers = sum(df.Profit < 0)/Trade_Count*100\n",
    "Winner_Losers_Ratio = Percent_Winners/Percent_Losers*100"
   ]
  },
  {
   "cell_type": "code",
   "execution_count": null,
   "metadata": {},
   "outputs": [],
   "source": [
    "Winner = []\n",
    "Loser = []\n",
    "Profit = np.array(df.Profit)\n",
    "EntryPrice = np.array(df.EntryPrice)\n",
    "ClosePrice = np.array(df.ClosePrice)\n",
    "StartPos = np.array(df.StartPos)\n",
    "for i in range(Trade_Count):\n",
    "    if Profit[i] >= 0:\n",
    "        if StartPos[i] == 'long':\n",
    "            Winner.append((ClosePrice[i]-EntryPrice[i])/EntryPrice[i])\n",
    "        else:\n",
    "            Winner.append((EntryPrice[i]-ClosePrice[i])/EntryPrice[i])\n",
    "    else:\n",
    "        if StartPos[i] == 'long':\n",
    "            Loser.append((EntryPrice[i]-ClosePrice[i])/EntryPrice[i])\n",
    "        else:\n",
    "            Loser.append((ClosePrice[i]-EntryPrice[i])/EntryPrice[i])"
   ]
  },
  {
   "cell_type": "code",
   "execution_count": null,
   "metadata": {},
   "outputs": [],
   "source": [
    "Avg_Winner = np.mean(Winner)*100\n",
    "Avg_Loser = np.mean(Loser)*100\n",
    "Avg_Winner_to_Avg_Loser = Avg_Winner/Avg_Loser*100\n",
    "Best_Winner = max(Winner)*100\n",
    "Worst_Loser = max(Loser)*100\n",
    "Best_Winner_To_Worst_Loser = Best_Winner/Worst_Loser*100"
   ]
  },
  {
   "cell_type": "code",
   "execution_count": null,
   "metadata": {},
   "outputs": [],
   "source": [
    "index_i = np.zeros(Trade_Count)\n",
    "index_j = np.zeros(Trade_Count)\n",
    "Date = np.array(data.index)\n",
    "Time = np.array(data.Time)\n",
    "n = len(data)\n",
    "i = 0\n",
    "start = time.time()\n",
    "for trade in range(Trade_Count):\n",
    "    for index in range(i,n):\n",
    "        if str(Date[index])[:10] == df.StartDate[trade] and Time[index] == df.StartTime[trade]:\n",
    "            index_i[trade] = index\n",
    "        if str(Date[index])[:10] == df.EndDate[trade] and Time[index] == df.EndTime[trade]:\n",
    "            index_j[trade] = index\n",
    "            i = index\n",
    "            pass\n",
    "end = time.time()\n",
    "end - start"
   ]
  },
  {
   "cell_type": "code",
   "execution_count": null,
   "metadata": {},
   "outputs": [],
   "source": [
    "df['Bars'] = index_j-index_i"
   ]
  },
  {
   "cell_type": "code",
   "execution_count": null,
   "metadata": {},
   "outputs": [],
   "source": [
    "Avg_Bars_In_Trade = np.mean(df.Bars)\n",
    "Avg_Bars_In_Win_Trade = np.mean(df.Bars[df.Profit >= 0])\n",
    "Avg_Bars_In_Lose_Trade = np.mean(df.Bars[df.Profit < 0])"
   ]
  },
  {
   "cell_type": "code",
   "execution_count": null,
   "metadata": {},
   "outputs": [],
   "source": [
    "rt = np.diff(np.log(df_EC.Equity))\n",
    "avg_ror = np.mean(rt)*len(rt)/20*100\n",
    "avg_std = np.std(rt)*np.sqrt(len(rt))/20*100\n",
    "Sharpe_Ratio = avg_ror/avg_std"
   ]
  },
  {
   "cell_type": "code",
   "execution_count": null,
   "metadata": {},
   "outputs": [],
   "source": [
    "n = 50\n",
    "file = open(\"copy.txt\", \"w\") \n",
    "file.write(\"Performance Results\\n\\n\")\n",
    "file.write('Time Series: XB/XB-5min.asc\\n\\n')\n",
    "file.write('Basic Channel System\\n')\n",
    "file.write('-'*100)\n",
    "file.write('\\n'*3)\n",
    "file.write('Net Equity ' + '-'*(n-len('Net Equity ')) + ' $' + str(round(Net_Equity,2))+'\\n')\n",
    "file.write('Net Profit ' + '-'*(n-len('Net Profit ')) + ' $' + str(round(Net_Profit,2))+'\\n')\n",
    "file.write('Net Profit To Worst Drawdown ' + '-'*(n-len('Net Profit To Worst Drawdown ')) + ' '\n",
    "           + str(round(Net_Profit_To_Worst_Drawdown,2))+'%\\n')\n",
    "file.write('Average Loser ' + '-'*(n-len('Average Loser ')) + ' -' + str(round(Avg_Loser,2))+'%\\n')\n",
    "file.write('Average Winner ' + '-'*(n-len('Average Winner ')) + ' ' + str(round(Avg_Winner,2))+'%\\n')\n",
    "file.write('Average Winner To Average Loser ' + '-'*(n-len('Average Winner To Average Loser ')) + ' '\n",
    "           + str(round(Avg_Winner_to_Avg_Loser,2))+'%\\n')\n",
    "file.write('Gross Gain ' + '-'*(n-len('Gross Gain ')) + ' $' + str(round(Gross_Gain,2))+'\\n')\n",
    "file.write('Gross Loss ' + '-'*(n-len('Gross Loss ')) + ' ($' + str(round(Gross_Loss,2))+')\\n')\n",
    "file.write('Profit Factor ' + '-'*(n-len('Profit Factor ')) + ' ' + str(round(Profit_Factor,2))+'\\n')\n",
    "file.write('Trade Count ' + '-'*(n-len('Trade Count ')) + ' ' + str(round(Trade_Count,2))+'\\n')\n",
    "file.write('Long Trade Count ' + '-'*(n-len('Long Trade Count ')) + ' ' + str(round(Long_Trade_Count,2))+'\\n')\n",
    "file.write('Short Trade Count ' + '-'*(n-len('Short Trade Count ')) + ' ' + str(round(Short_Trade_Count,2))+'\\n')\n",
    "file.write('Average Drawdown ' + '-'*(n-len('Average Drawdown ')) + ' ($' + str(round(Avg_Drawdown,2))+')\\n')\n",
    "file.write('Worst Drawdown ' + '-'*(n-len('Worst Drawdown ')) + ' ($' + str(round(Worst_Drawdown,2))+')\\n')\n",
    "file.write('Percent Winners ' + '-'*(n-len('Percent Winners ')) + ' ' + str(round(Percent_Winners,2))+'%\\n')\n",
    "file.write('Percent Losers ' + '-'*(n-len('Percent Losers ')) + ' ' + str(round(Percent_Losers,2))+'%\\n')\n",
    "file.write('Best Winner ' + '-'*(n-len('Best Winner ')) + ' ' + str(round(Best_Winner,2))+'%\\n')\n",
    "file.write('Worst Loser ' + '-'*(n-len('Worst Loser ')) + ' -' + str(round(Worst_Loser,2))+'%\\n')\n",
    "file.write('Best Winner To Worst Loser ' + '-'*(n-len('Best Winner To Worst Loser ')) + ' '\n",
    "           + str(round(Best_Winner_To_Worst_Loser,2))+'%\\n')\n",
    "file.write('Winners Losers Ratio ' + '-'*(n-len('Winners Losers Ratio ')) + ' ' + str(round(Winner_Losers_Ratio,2))+'%\\n')\n",
    "file.write('Sharpe Ratio ' + '-'*(n-len('Sharpe Ratio ')) + ' ' + str(round(Sharpe_Ratio,2))+'\\n')\n",
    "file.write('Average RoR ' + '-'*(n-len('Average RoR ')) + ' ' + str(round(avg_ror,2))+'%\\n')\n",
    "file.write('Average Std Dev ' + '-'*(n-len('Average Std Dev ')) + ' ' + str(round(avg_std,2))+'%\\n')\n",
    "file.write('Avg Bars in Trade ' + '-'*(n-len('Avg Bars in Trade ')) + ' ' + str(round(Avg_Bars_In_Trade))+'\\n')\n",
    "file.write('Avg Bars in Winning Trade ' + '-'*(n-len('Avg Bars in Winning Trade ')) + ' '\n",
    "           + str(round(Avg_Bars_In_Win_Trade))+'\\n')\n",
    "file.write('Avg Bars in Losing Trade ' + '-'*(n-len('Avg Bars in Losing Trade ')) + ' '\n",
    "           + str(round(Avg_Bars_In_Lose_Trade))+'\\n\\n')\n",
    "file.write('-'*100 + '\\n\\n')\n",
    "n = 25\n",
    "file.write('Slippage ' + ' '*(n-len('Slippage ')) + str(91) +'\\n')\n",
    "file.write('Series Date Start ' + ' '*(n-len('Series Date Start ')) + str(data.index[0])[:10] +'\\n')\n",
    "file.write('Series Date End ' + ' '*(n-len('Series Date End ')) + str(data.index[-1])[:10] +'\\n')\n",
    "file.close() "
   ]
  }
 ],
 "metadata": {
  "kernelspec": {
   "display_name": "Python 3",
   "language": "python",
   "name": "python3"
  },
  "language_info": {
   "codemirror_mode": {
    "name": "ipython",
    "version": 3
   },
   "file_extension": ".py",
   "mimetype": "text/x-python",
   "name": "python",
   "nbconvert_exporter": "python",
   "pygments_lexer": "ipython3",
   "version": "3.7.6"
  }
 },
 "nbformat": 4,
 "nbformat_minor": 4
}
